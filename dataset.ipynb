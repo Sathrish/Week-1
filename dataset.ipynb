{
 "cells": [
  {
   "cell_type": "code",
   "execution_count": 64,
   "id": "8844e442-b0c1-451b-b082-cd901399f20c",
   "metadata": {},
   "outputs": [
    {
     "name": "stdout",
     "output_type": "stream",
     "text": [
      "Data preprocessing and feature engineering is completed.\n",
      "The final cleaned and prepared dataset has been saved to 'smart_logistics_updated.csv'.\n"
     ]
    }
   ],
   "source": [
    "import pandas as pd\n",
    "import numpy as np\n",
    "\n",
    "# 1. Load the dataset from the specified path\n",
    "# Using forward slashes is the best way to avoid syntax errors on any operating system.\n",
    "df = pd.read_csv(\"C:/Users/sathr/OneDrive/Desktop/AIML internship/smart_logistics_dataset.csv\")\n",
    "\n",
    "# 2. Data Cleaning and Preprocessing\n",
    "# Convert 'Timestamp' to a proper datetime format\n",
    "df['Timestamp'] = pd.to_datetime(df['Timestamp'])\n",
    "\n",
    "# Fill missing values in 'Logistics_Delay_Reason' with a new category.\n",
    "# This modern syntax avoids the FutureWarning.\n",
    "df['Logistics_Delay_Reason'] = df['Logistics_Delay_Reason'].fillna('No Delay Reason')\n",
    "\n",
    "# 3. Feature Engineering\n",
    "# Create time-based features from the Timestamp\n",
    "df['hour'] = df['Timestamp'].dt.hour\n",
    "df['day_of_week'] = df['Timestamp'].dt.dayofweek\n",
    "df['day_of_year'] = df['Timestamp'].dt.dayofyear\n",
    "\n",
    "# Define a temperature threshold (e.g., 5 degrees C) and calculate the thermal abuse score\n",
    "temp_threshold = 5  \n",
    "df['thermal_abuse_score'] = df['Temperature'].apply(lambda temp: max(0, temp - temp_threshold))\n",
    "\n",
    "# Sort the data by Asset_ID and Timestamp for accurate cumulative sum\n",
    "df.sort_values(by=['Asset_ID', 'Timestamp'], inplace=True)\n",
    "\n",
    "# Calculate the cumulative thermal abuse score for each truck\n",
    "df['cumulative_thermal_abuse'] = df.groupby('Asset_ID')['thermal_abuse_score'].cumsum()\n",
    "\n",
    "# Create the binary spoilage flag based on a threshold\n",
    "spoilage_threshold = 800\n",
    "df['spoilage_flag'] = (df['cumulative_thermal_abuse'] > spoilage_threshold).astype(int)\n",
    "\n",
    "# 4. Final Feature Selection\n",
    "# Create a new DataFrame with only the relevant columns we planned for\n",
    "columns_to_keep = [\n",
    "    'Timestamp', 'Asset_ID', 'Temperature', 'Humidity', \n",
    "    'Shipment_Status', 'Traffic_Status', 'Logistics_Delay_Reason', \n",
    "    'hour', 'day_of_week', 'day_of_year', \n",
    "    'thermal_abuse_score', 'cumulative_thermal_abuse', 'spoilage_flag'\n",
    "]\n",
    "\n",
    "df_final = df[columns_to_keep]\n",
    "\n",
    "# 5. Save the final updated DataFrame to a new CSV file\n",
    "df_final.to_csv('smart_logistics_updated.csv', index=False)\n",
    "\n",
    "print(\"Data preprocessing and feature engineering is completed.\")\n",
    "print(\"The final cleaned and prepared dataset has been saved to 'smart_logistics_updated.csv'.\")"
   ]
  },
  {
   "cell_type": "code",
   "execution_count": 66,
   "id": "9a5bc5fc-45eb-4a5f-a1a0-75c8026fdefa",
   "metadata": {},
   "outputs": [
    {
     "name": "stdout",
     "output_type": "stream",
     "text": [
      "Total number of spoiled items: 581\n"
     ]
    }
   ],
   "source": [
    "# Get the total number of spoiled items\n",
    "total_spoiled = df['spoilage_flag'].sum()\n",
    "\n",
    "print(f\"Total number of spoiled items: {total_spoiled}\")"
   ]
  },
  {
   "cell_type": "code",
   "execution_count": null,
   "id": "1a511cbc-99f9-4e86-b871-279e222607bd",
   "metadata": {},
   "outputs": [],
   "source": []
  },
  {
   "cell_type": "code",
   "execution_count": null,
   "id": "bc503fa9-4e2d-4486-8df4-e6783dd39ed8",
   "metadata": {},
   "outputs": [],
   "source": []
  },
  {
   "cell_type": "code",
   "execution_count": null,
   "id": "98782ece-bd47-43d1-afc5-b229f98afbaa",
   "metadata": {},
   "outputs": [],
   "source": []
  },
  {
   "cell_type": "code",
   "execution_count": null,
   "id": "170e522c-ec6b-4281-9bfc-03448bfac530",
   "metadata": {},
   "outputs": [],
   "source": []
  },
  {
   "cell_type": "code",
   "execution_count": null,
   "id": "6a2e4e4a-baa8-45d9-a0db-4b22e79f8b0f",
   "metadata": {},
   "outputs": [],
   "source": []
  },
  {
   "cell_type": "code",
   "execution_count": null,
   "id": "c80c67cf-a18d-407f-a8fa-278eb884c0a6",
   "metadata": {},
   "outputs": [],
   "source": []
  },
  {
   "cell_type": "code",
   "execution_count": null,
   "id": "82497feb-8b3c-4cc5-94f0-39d929346b42",
   "metadata": {},
   "outputs": [],
   "source": []
  },
  {
   "cell_type": "code",
   "execution_count": null,
   "id": "39435511-d676-49de-bc0c-8775fab98ca1",
   "metadata": {},
   "outputs": [],
   "source": []
  }
 ],
 "metadata": {
  "kernelspec": {
   "display_name": "Python [conda env:base] *",
   "language": "python",
   "name": "conda-base-py"
  },
  "language_info": {
   "codemirror_mode": {
    "name": "ipython",
    "version": 3
   },
   "file_extension": ".py",
   "mimetype": "text/x-python",
   "name": "python",
   "nbconvert_exporter": "python",
   "pygments_lexer": "ipython3",
   "version": "3.12.7"
  }
 },
 "nbformat": 4,
 "nbformat_minor": 5
}
